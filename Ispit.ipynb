{
  "nbformat": 4,
  "nbformat_minor": 0,
  "metadata": {
    "colab": {
      "name": "Ispit.ipynb",
      "provenance": []
    },
    "kernelspec": {
      "name": "python3",
      "display_name": "Python 3"
    },
    "language_info": {
      "name": "python"
    },
    "accelerator": "GPU"
  },
  "cells": [
    {
      "cell_type": "code",
      "metadata": {
        "id": "4YU5X-i-4mIA"
      },
      "source": [
        " ! pip install -q kaggle"
      ],
      "execution_count": null,
      "outputs": []
    },
    {
      "cell_type": "code",
      "metadata": {
        "colab": {
          "base_uri": "https://localhost:8080/"
        },
        "id": "4IFsK6a34jtQ",
        "outputId": "6da7d0f1-6b03-4fc7-a832-fcfe5a3ba78c"
      },
      "source": [
        "# Download dataset-a\n",
        "import os\n",
        "os.environ['KAGGLE_USERNAME'] = \"bojansovtic\"\n",
        "os.environ['KAGGLE_KEY'] = \"4ca5b00dda3b74d8cd6f8e8da5561a55\"\n",
        "\n",
        "!kaggle datasets download -d vijaygiitk/multiclass-weather-dataset"
      ],
      "execution_count": 2,
      "outputs": [
        {
          "output_type": "stream",
          "text": [
            "Downloading multiclass-weather-dataset.zip to /content\n",
            " 91% 123M/134M [00:00<00:00, 176MB/s] \n",
            "100% 134M/134M [00:00<00:00, 167MB/s]\n"
          ],
          "name": "stdout"
        }
      ]
    },
    {
      "cell_type": "code",
      "metadata": {
        "colab": {
          "base_uri": "https://localhost:8080/"
        },
        "id": "buXEmqYN5ZxO",
        "outputId": "e878918c-9409-4e74-badb-30cd0c956197"
      },
      "source": [
        "# Raspakovanje dataset-a\n",
        "from zipfile import ZipFile\n",
        "file_name = \"/content/multiclass-weather-dataset.zip\"\n",
        "with ZipFile(file_name, 'r') as zip:\n",
        "  zip.extractall()\n",
        "  print('done')\n"
      ],
      "execution_count": 3,
      "outputs": [
        {
          "output_type": "stream",
          "text": [
            "done\n"
          ],
          "name": "stdout"
        }
      ]
    },
    {
      "cell_type": "code",
      "metadata": {
        "colab": {
          "base_uri": "https://localhost:8080/"
        },
        "id": "mQ2nv9vQ6D-Y",
        "outputId": "e9866bd7-6a3c-4612-c834-7461ac6f7379"
      },
      "source": [
        "# listanje 6 folder-a, 5 sadrze slike za trening, alien_test sadrzi slike za test\n",
        "data_dir_list = os.listdir('/content/dataset')\n",
        "print(data_dir_list)\n",
        "path, dirs, files = next(os.walk(\"/content/dataset\"))\n",
        "dirs_count = len(dirs)\n",
        "print(dirs_count)"
      ],
      "execution_count": 4,
      "outputs": [
        {
          "output_type": "stream",
          "text": [
            "['sunrise', 'cloudy', 'shine', 'alien_test', 'rainy', 'foggy', 'test.csv']\n",
            "6\n"
          ],
          "name": "stdout"
        }
      ]
    },
    {
      "cell_type": "code",
      "metadata": {
        "id": "5ciKoq8W6Gl0"
      },
      "source": [
        "# Kreiranje novog osnovnog direktorijuma\n",
        "original_dataset_dir = '/content/dataset'\n",
        "base_dir = '/content/weather-data/'\n",
        "os.mkdir(base_dir)"
      ],
      "execution_count": 5,
      "outputs": []
    },
    {
      "cell_type": "code",
      "metadata": {
        "id": "XMqCDMcT6Z28"
      },
      "source": [
        "# Kreiranje dva podfoldera za trening i validaciju\n",
        "train_dir = os.path.join(base_dir, 'train')\n",
        "os.mkdir(train_dir)\n",
        "\n",
        "validation_dir = os.path.join(base_dir, 'validation')\n",
        "os.mkdir(validation_dir)\n",
        "\n",
        "# U trening folderu kreiramo 5 trening foldera \n",
        "# [cloudy, foggy, rainy, shine, sunrise]\n",
        "train_cloud_dir = os.path.join(train_dir, 'cloudy')\n",
        "os.mkdir(train_cloud_dir)\n",
        "\n",
        "train_foggy_dir = os.path.join(train_dir, 'foggy')\n",
        "os.mkdir(train_foggy_dir)\n",
        "\n",
        "train_rainy_dir = os.path.join(train_dir, 'rainy')\n",
        "os.mkdir(train_rainy_dir)\n",
        "\n",
        "train_shine_dir = os.path.join(train_dir, 'shine')\n",
        "os.mkdir(train_shine_dir)\n",
        "\n",
        "train_sunrise_dir = os.path.join(train_dir, 'sunrise')\n",
        "os.mkdir(train_sunrise_dir)\n",
        "\n",
        "# Isto radimo i u folderu za validaciju\n",
        "validation_cloud_dir = os.path.join(validation_dir, 'cloudy')\n",
        "os.mkdir(validation_cloud_dir)\n",
        "\n",
        "validation_foggy_dir = os.path.join(validation_dir, 'foggy')\n",
        "os.mkdir(validation_foggy_dir)\n",
        "\n",
        "validation_rainy_dir = os.path.join(validation_dir, 'rainy')\n",
        "os.mkdir(validation_rainy_dir)\n",
        "\n",
        "validation_shine_dir = os.path.join(validation_dir, 'shine')\n",
        "os.mkdir(validation_shine_dir)\n",
        "\n",
        "validation_sunrise_dir = os.path.join(validation_dir, 'sunrise')\n",
        "os.mkdir(validation_sunrise_dir)"
      ],
      "execution_count": 6,
      "outputs": []
    },
    {
      "cell_type": "code",
      "metadata": {
        "id": "j_4Aruzo6buM"
      },
      "source": [
        "# Funkcija za razvrstavanje fajlova u nove train/validation foldere unutar \n",
        "# weather-data foldera (izvorni folder, ciljni trening folder, ciljni \n",
        "# validation folder, procenat fajlova koji ce biti svrstani u trening folder)\n",
        "import random\n",
        "from shutil import copyfile\n",
        "\n",
        "def split_data(SOURCE, TRAINING, VALIDATION, SPLIT_SIZE):\n",
        "    files = []\n",
        "    for filename in os.listdir(SOURCE):\n",
        "        file = SOURCE + filename\n",
        "        if os.path.getsize(file) > 0:\n",
        "            files.append(filename)\n",
        "        else:\n",
        "            print(filename + \" is zero length, so ignoring.\")\n",
        "\n",
        "    training_length = int(len(files) * SPLIT_SIZE)\n",
        "    valid_length = int(len(files) - training_length)\n",
        "    shuffled_set = random.sample(files, len(files))\n",
        "    training_set = shuffled_set[0:training_length]\n",
        "    valid_set = shuffled_set[training_length:]\n",
        "\n",
        "    for filename in training_set:\n",
        "        this_file = SOURCE + filename\n",
        "        destination = TRAINING + filename\n",
        "        copyfile(this_file, destination)\n",
        "\n",
        "    for filename in valid_set:\n",
        "        this_file = SOURCE + filename\n",
        "        destination = VALIDATION + filename\n",
        "        copyfile(this_file, destination)"
      ],
      "execution_count": 7,
      "outputs": []
    },
    {
      "cell_type": "code",
      "metadata": {
        "id": "J75Iooqm6dcP"
      },
      "source": [
        "# definisanje izvornih i ciljnih foldera za 5 direktorijuma\n",
        "CLOUDY_SOURCE_DIR = '/content/dataset/cloudy/'\n",
        "TRAINING_CLOUDY_DIR = '/content/weather-data/train/cloudy/'\n",
        "VALID_CLOUDY_DIR = '/content/weather-data/validation/cloudy/'\n",
        "\n",
        "FOGGY_SOURCE_DIR = '/content/dataset/foggy/'\n",
        "TRAINING_FOGGY_DIR = '/content/weather-data/train/foggy/'\n",
        "VALID_FOGGY_DIR = '/content/weather-data/validation/foggy/'\n",
        "\n",
        "RAINY_SOURCE_DIR = '/content/dataset/rainy/'\n",
        "TRAINING_RAINY_DIR = '/content/weather-data/train/rainy/'\n",
        "VALID_RAINY_DIR = '/content/weather-data/validation/rainy/'\n",
        "\n",
        "SHINE_SOURCE_DIR = '/content/dataset/shine/'\n",
        "TRAINING_SHINE_DIR = '/content/weather-data/train/shine/'\n",
        "VALID_SHINE_DIR = '/content/weather-data/validation/shine/'\n",
        "\n",
        "SUNRISE_SOURCE_DIR = '/content/dataset/sunrise/'\n",
        "TRAINING_SUNRISE_DIR = '/content/weather-data/train/sunrise/'\n",
        "VALID_SUNRISE_DIR = '/content/weather-data/validation/sunrise/'"
      ],
      "execution_count": 8,
      "outputs": []
    },
    {
      "cell_type": "code",
      "metadata": {
        "id": "9sfRk-_X6e8d"
      },
      "source": [
        "# pozivamo split_data funkciju koja 85% fajlova (iz svakog foldera) prebacuje\n",
        "# u trening skup, a ostatak u skup za validaciju\n",
        "split_size = .85\n",
        "\n",
        "split_data(CLOUDY_SOURCE_DIR, TRAINING_CLOUDY_DIR, VALID_CLOUDY_DIR, split_size)\n",
        "split_data(FOGGY_SOURCE_DIR, TRAINING_FOGGY_DIR, VALID_FOGGY_DIR, split_size)\n",
        "split_data(RAINY_SOURCE_DIR, TRAINING_RAINY_DIR, VALID_RAINY_DIR, split_size)\n",
        "split_data(SHINE_SOURCE_DIR, TRAINING_SHINE_DIR, VALID_SHINE_DIR, split_size)\n",
        "split_data(SUNRISE_SOURCE_DIR, TRAINING_SUNRISE_DIR, VALID_SUNRISE_DIR, split_size)"
      ],
      "execution_count": 9,
      "outputs": []
    },
    {
      "cell_type": "code",
      "metadata": {
        "colab": {
          "base_uri": "https://localhost:8080/",
          "height": 390
        },
        "id": "qTF7kXqX6iWB",
        "outputId": "8c3b3798-f708-4679-b2e3-520922d2ff69"
      },
      "source": [
        "import matplotlib.pyplot as plt\n",
        "import seaborn as sns\n",
        "from matplotlib.image import imread\n",
        "import pathlib\n",
        "\n",
        "# Na dijagramu vidimo kako su rasporedjene klase u trening skupu\n",
        "image_folder = ['cloudy', 'foggy', 'rainy', 'shine', 'sunrise']\n",
        "nimgs = {}\n",
        "for i in image_folder:\n",
        "    nimages = len(os.listdir('/content/weather-data/train/'+i+'/'))\n",
        "    nimgs[i]=nimages\n",
        "plt.figure(figsize=(9, 6))\n",
        "plt.bar(range(len(nimgs)), list(nimgs.values()), align='center')\n",
        "plt.xticks(range(len(nimgs)), list(nimgs.keys()))\n",
        "plt.title('Distribution of different classes in Training Dataset')\n",
        "plt.show()"
      ],
      "execution_count": 10,
      "outputs": [
        {
          "output_type": "display_data",
          "data": {
            "image/png": "[encoded data removed]",
            "text/plain": [
              "<Figure size 648x432 with 1 Axes>"
            ]
          },
          "metadata": {
            "tags": [],
            "needs_background": "light"
          }
        }
      ]
    },
    {
      "cell_type": "code",
      "metadata": {
        "colab": {
          "base_uri": "https://localhost:8080/"
        },
        "id": "8m9fjS6y6jla",
        "outputId": "3ba01b1a-4859-4edd-e79b-33cc631da7de"
      },
      "source": [
        "# Tacan broj slika u svakom folderu\n",
        "for i in ['cloudy', 'foggy', 'rainy', 'shine', 'sunrise']:\n",
        "    print('Training {} images are: '.format(i)+str(len(os.listdir('/content/weather-data/train/'+i+'/'))))"
      ],
      "execution_count": 11,
      "outputs": [
        {
          "output_type": "stream",
          "text": [
            "Training cloudy images are: 255\n",
            "Training foggy images are: 255\n",
            "Training rainy images are: 255\n",
            "Training shine images are: 212\n",
            "Training sunrise images are: 297\n"
          ],
          "name": "stdout"
        }
      ]
    },
    {
      "cell_type": "code",
      "metadata": {
        "colab": {
          "base_uri": "https://localhost:8080/",
          "height": 390
        },
        "id": "6_BAtaKc6mni",
        "outputId": "e1341fad-078c-402f-f906-6a3a4d73c757"
      },
      "source": [
        "# Na dijagramu vidimo kako su rasporedjene klase u validacionom skupu\n",
        "image_folder = ['cloudy', 'foggy', 'rainy', 'shine', 'sunrise']\n",
        "nimgs = {}\n",
        "for i in image_folder:\n",
        "    nimages = len(os.listdir('/content/weather-data/validation/'+i+'/'))\n",
        "    nimgs[i]=nimages\n",
        "plt.figure(figsize=(9, 6))\n",
        "plt.bar(range(len(nimgs)), list(nimgs.values()), align='center')\n",
        "plt.xticks(range(len(nimgs)), list(nimgs.keys()))\n",
        "plt.title('Distribution of different classes in Validation Dataset')\n",
        "plt.show()"
      ],
      "execution_count": 12,
      "outputs": [
        {
          "output_type": "display_data",
          "data": {
            "image/png": "[encoded data removed]",
            "text/plain": [
              "<Figure size 648x432 with 1 Axes>"
            ]
          },
          "metadata": {
            "tags": [],
            "needs_background": "light"
          }
        }
      ]
    },
    {
      "cell_type": "code",
      "metadata": {
        "colab": {
          "base_uri": "https://localhost:8080/"
        },
        "id": "G143Gdb36or9",
        "outputId": "e5439318-4c83-48a5-ceb3-396e79e9e437"
      },
      "source": [
        "# Tacan broj slika u svakom folderu\n",
        "for i in ['cloudy', 'foggy', 'rainy', 'shine', 'sunrise']:\n",
        "    print('Valid {} images are: '.format(i)+str(len(os.listdir('/content/weather-data/validation/'+i+'/'))))"
      ],
      "execution_count": 13,
      "outputs": [
        {
          "output_type": "stream",
          "text": [
            "Valid cloudy images are: 45\n",
            "Valid foggy images are: 45\n",
            "Valid rainy images are: 45\n",
            "Valid shine images are: 38\n",
            "Valid sunrise images are: 53\n"
          ],
          "name": "stdout"
        }
      ]
    },
    {
      "cell_type": "code",
      "metadata": {
        "id": "wHk2i0Ap6qZ3"
      },
      "source": [
        "from tensorflow.keras.optimizers import Adam\n",
        "from tensorflow.keras.preprocessing.image import ImageDataGenerator\n",
        "from tensorflow.keras.layers import Conv2D, MaxPooling2D, Flatten, Dense, Dropout\n",
        "from tensorflow.keras.models import Sequential\n",
        "from tensorflow.keras.callbacks import EarlyStopping, ModelCheckpoint"
      ],
      "execution_count": 14,
      "outputs": []
    },
    {
      "cell_type": "code",
      "metadata": {
        "id": "2M9rRZHa6tCD"
      },
      "source": [
        "# Odredjivanje dimenzija koju ce imati svaka slika\n",
        "img_width=256; img_height=256\n",
        "batch_size=16"
      ],
      "execution_count": 15,
      "outputs": []
    },
    {
      "cell_type": "code",
      "metadata": {
        "colab": {
          "base_uri": "https://localhost:8080/"
        },
        "id": "Apqoea4V6uBj",
        "outputId": "9ab2dab1-19c0-4b5b-89da-de7d4a5401ae"
      },
      "source": [
        "TRAINING_DIR = '/content/weather-data/train/'\n",
        "\n",
        "# Kreiramo nove podatke/slika, skaliramo, rotiramo svaku sliku za 30 stepeni,\n",
        "# zumiramo i horizontalno rotiramo\n",
        "train_datagen = ImageDataGenerator(rescale = 1/255.0,\n",
        "                                   rotation_range=30,\n",
        "                                   zoom_range=0.4,\n",
        "                                   horizontal_flip=True)\n",
        "# Generisemo nove podatke iz naseg trening dirketorijuma\n",
        "train_generator = train_datagen.flow_from_directory(TRAINING_DIR,\n",
        "                                                    batch_size=batch_size,\n",
        "                                                    class_mode='categorical',\n",
        "                                                    target_size=(img_height, img_width))"
      ],
      "execution_count": 16,
      "outputs": [
        {
          "output_type": "stream",
          "text": [
            "Found 1274 images belonging to 5 classes.\n"
          ],
          "name": "stdout"
        }
      ]
    },
    {
      "cell_type": "code",
      "metadata": {
        "colab": {
          "base_uri": "https://localhost:8080/"
        },
        "id": "3Ydr1Z0J6vNm",
        "outputId": "6e5c6b9a-72bf-4e9d-bf8c-b63c0c053044"
      },
      "source": [
        "# Za validacioni skup ne generisemo nove slike\n",
        "VALIDATION_DIR = '/content/weather-data/validation/'\n",
        "\n",
        "validation_datagen = ImageDataGenerator(rescale = 1/255.0)\n",
        "\n",
        "validation_generator = validation_datagen.flow_from_directory(VALIDATION_DIR,\n",
        "                                                              batch_size=batch_size,\n",
        "                                                              class_mode='categorical',\n",
        "                                                              target_size=(img_height, img_width)\n",
        "                                                             )"
      ],
      "execution_count": 17,
      "outputs": [
        {
          "output_type": "stream",
          "text": [
            "Found 226 images belonging to 5 classes.\n"
          ],
          "name": "stdout"
        }
      ]
    },
    {
      "cell_type": "code",
      "metadata": {
        "id": "KGitoiIx6wiq"
      },
      "source": [
        "# Cuvanje najboljeg modela na osnovu Validation_loss\n",
        "# Ako je val_loss veci od training_loss doslo je do do overfittinga\n",
        "callbacks = EarlyStopping(monitor='val_loss', patience=5, verbose=1, mode='auto')\n",
        "best_model_file = '/content/CNN_aug_best_weights.h5'\n",
        "best_model = ModelCheckpoint(best_model_file, monitor='val_accuracy', verbose = 1, save_best_only = True)"
      ],
      "execution_count": 18,
      "outputs": []
    },
    {
      "cell_type": "code",
      "metadata": {
        "colab": {
          "base_uri": "https://localhost:8080/"
        },
        "id": "PJVnvm_L6yNY",
        "outputId": "142a90a1-f488-462b-aace-a801e9b60279"
      },
      "source": [
        "# Kreiranje sekvencionalnog modela\n",
        "model = Sequential([\n",
        "    # Kreiranje lejera sa 16 neurona sa filterom velicine 3, 3, za prvi layer\n",
        "    # definisemo i dimenzije slika\n",
        "    # Relu je linearna funkcija kojac će direktno dati izlaz  ako je pozitivan, \n",
        "    # u suprotnom će dati nulu.\n",
        "    Conv2D(16, (3, 3), activation='relu', input_shape=(img_height, img_width, 3)), MaxPooling2D(2, 2),\n",
        "    Conv2D(32, (3, 3), activation='relu'), MaxPooling2D(2, 2),\n",
        "    Conv2D(64, (3, 3), activation='relu'),\n",
        "    Conv2D(64, (3, 3), activation='relu'),\n",
        "    MaxPooling2D(2, 2),\n",
        "    Conv2D(128, (3, 3), activation='relu'),\n",
        "    Conv2D(128, (3, 3), activation='relu'),\n",
        "    MaxPooling2D(2, 2),\n",
        "    Conv2D(256, (3, 3), activation='relu'),\n",
        "    Conv2D(256, (3, 3), activation='relu'),\n",
        "    Conv2D(256, (3, 3), activation='relu'),\n",
        "    MaxPooling2D(2, 2),\n",
        "    Flatten(),\n",
        "    # Kreiranje potpuno povezane neuronske mreze (Dense)\n",
        "    Dense(512, activation='relu'),\n",
        "    Dense(512, activation='relu'),\n",
        "    Dense(5, activation='softmax')\n",
        "])\n",
        "model.summary()"
      ],
      "execution_count": 19,
      "outputs": [
        {
          "output_type": "stream",
          "text": [
            "Model: \"sequential\"\n",
            "_________________________________________________________________\n",
            "Layer (type)                 Output Shape              Param #   \n",
            "=================================================================\n",
            "conv2d (Conv2D)              (None, 254, 254, 16)      448       \n",
            "_________________________________________________________________\n",
            "max_pooling2d (MaxPooling2D) (None, 127, 127, 16)      0         \n",
            "_________________________________________________________________\n",
            "conv2d_1 (Conv2D)            (None, 125, 125, 32)      4640      \n",
            "_________________________________________________________________\n",
            "max_pooling2d_1 (MaxPooling2 (None, 62, 62, 32)        0         \n",
            "_________________________________________________________________\n",
            "conv2d_2 (Conv2D)            (None, 60, 60, 64)        18496     \n",
            "_________________________________________________________________\n",
            "conv2d_3 (Conv2D)            (None, 58, 58, 64)        36928     \n",
            "_________________________________________________________________\n",
            "max_pooling2d_2 (MaxPooling2 (None, 29, 29, 64)        0         \n",
            "_________________________________________________________________\n",
            "conv2d_4 (Conv2D)            (None, 27, 27, 128)       73856     \n",
            "_________________________________________________________________\n",
            "conv2d_5 (Conv2D)            (None, 25, 25, 128)       147584    \n",
            "_________________________________________________________________\n",
            "max_pooling2d_3 (MaxPooling2 (None, 12, 12, 128)       0         \n",
            "_________________________________________________________________\n",
            "conv2d_6 (Conv2D)            (None, 10, 10, 256)       295168    \n",
            "_________________________________________________________________\n",
            "conv2d_7 (Conv2D)            (None, 8, 8, 256)         590080    \n",
            "_________________________________________________________________\n",
            "conv2d_8 (Conv2D)            (None, 6, 6, 256)         590080    \n",
            "_________________________________________________________________\n",
            "max_pooling2d_4 (MaxPooling2 (None, 3, 3, 256)         0         \n",
            "_________________________________________________________________\n",
            "flatten (Flatten)            (None, 2304)              0         \n",
            "_________________________________________________________________\n",
            "dense (Dense)                (None, 512)               1180160   \n",
            "_________________________________________________________________\n",
            "dense_1 (Dense)              (None, 512)               262656    \n",
            "_________________________________________________________________\n",
            "dense_2 (Dense)              (None, 5)                 2565      \n",
            "=================================================================\n",
            "Total params: 3,202,661\n",
            "Trainable params: 3,202,661\n",
            "Non-trainable params: 0\n",
            "_________________________________________________________________\n"
          ],
          "name": "stdout"
        }
      ]
    },
    {
      "cell_type": "code",
      "metadata": {
        "id": "8cNRnpla6znC"
      },
      "source": [
        "# Kompajliranje modela\n",
        "model.compile(optimizer='Adam', \n",
        "              loss='categorical_crossentropy', \n",
        "              metrics =['accuracy'])"
      ],
      "execution_count": 20,
      "outputs": []
    },
    {
      "cell_type": "code",
      "metadata": {
        "colab": {
          "base_uri": "https://localhost:8080/"
        },
        "id": "f1E_hV0161su",
        "outputId": "31f65d6e-511d-4331-9ffd-868904fdc6aa"
      },
      "source": [
        "# Treniranje model (50 epoha) i validacija na validacionom skupu\n",
        "history = model.fit_generator(train_generator,\n",
        "                              epochs=50,\n",
        "                              verbose=1,\n",
        "                              validation_data=validation_generator,\n",
        "                              callbacks = [best_model]\n",
        "                              )"
      ],
      "execution_count": 21,
      "outputs": [
        {
          "output_type": "stream",
          "text": [
            "/usr/local/lib/python3.7/dist-packages/tensorflow/python/keras/engine/training.py:1940: UserWarning: `Model.fit_generator` is deprecated and will be removed in a future version. Please use `Model.fit`, which supports generators.\n",
            "  warnings.warn('`Model.fit_generator` is deprecated and '\n"
          ],
          "name": "stderr"
        },
        {
          "output_type": "stream",
          "text": [
            "Epoch 1/50\n",
            "80/80 [==============================] - 57s 313ms/step - loss: 1.6020 - accuracy: 0.2190 - val_loss: 1.6063 - val_accuracy: 0.2345\n",
            "\n",
            "Epoch 00001: val_accuracy improved from -inf to 0.23451, saving model to /content/CNN_aug_best_weights.h5\n",
            "Epoch 2/50\n",
            "80/80 [==============================] - 24s 303ms/step - loss: 1.5204 - accuracy: 0.2849 - val_loss: 1.2958 - val_accuracy: 0.3938\n",
            "\n",
            "Epoch 00002: val_accuracy improved from 0.23451 to 0.39381, saving model to /content/CNN_aug_best_weights.h5\n",
            "Epoch 3/50\n",
            "80/80 [==============================] - 24s 303ms/step - loss: 1.1945 - accuracy: 0.4678 - val_loss: 1.0372 - val_accuracy: 0.5487\n",
            "\n",
            "Epoch 00003: val_accuracy improved from 0.39381 to 0.54867, saving model to /content/CNN_aug_best_weights.h5\n",
            "Epoch 4/50\n",
            "80/80 [==============================] - 24s 300ms/step - loss: 1.0242 - accuracy: 0.5440 - val_loss: 0.9218 - val_accuracy: 0.5708\n",
            "\n",
            "Epoch 00004: val_accuracy improved from 0.54867 to 0.57080, saving model to /content/CNN_aug_best_weights.h5\n",
            "Epoch 5/50\n",
            "80/80 [==============================] - 24s 304ms/step - loss: 0.9631 - accuracy: 0.5471 - val_loss: 0.9804 - val_accuracy: 0.5354\n",
            "\n",
            "Epoch 00005: val_accuracy did not improve from 0.57080\n",
            "Epoch 6/50\n",
            "80/80 [==============================] - 24s 302ms/step - loss: 0.9607 - accuracy: 0.5408 - val_loss: 0.9048 - val_accuracy: 0.5929\n",
            "\n",
            "Epoch 00006: val_accuracy improved from 0.57080 to 0.59292, saving model to /content/CNN_aug_best_weights.h5\n",
            "Epoch 7/50\n",
            "80/80 [==============================] - 24s 303ms/step - loss: 0.9369 - accuracy: 0.5636 - val_loss: 0.9179 - val_accuracy: 0.5487\n",
            "\n",
            "Epoch 00007: val_accuracy did not improve from 0.59292\n",
            "Epoch 8/50\n",
            "80/80 [==============================] - 24s 302ms/step - loss: 0.9298 - accuracy: 0.5604 - val_loss: 0.9722 - val_accuracy: 0.5310\n",
            "\n",
            "Epoch 00008: val_accuracy did not improve from 0.59292\n",
            "Epoch 9/50\n",
            "80/80 [==============================] - 24s 304ms/step - loss: 0.9412 - accuracy: 0.5597 - val_loss: 0.9428 - val_accuracy: 0.5708\n",
            "\n",
            "Epoch 00009: val_accuracy did not improve from 0.59292\n",
            "Epoch 10/50\n",
            "80/80 [==============================] - 25s 309ms/step - loss: 0.9165 - accuracy: 0.5557 - val_loss: 0.9204 - val_accuracy: 0.5752\n",
            "\n",
            "Epoch 00010: val_accuracy did not improve from 0.59292\n",
            "Epoch 11/50\n",
            "80/80 [==============================] - 24s 305ms/step - loss: 0.9124 - accuracy: 0.5746 - val_loss: 0.9738 - val_accuracy: 0.5708\n",
            "\n",
            "Epoch 00011: val_accuracy did not improve from 0.59292\n",
            "Epoch 12/50\n",
            "80/80 [==============================] - 24s 305ms/step - loss: 0.8971 - accuracy: 0.5659 - val_loss: 0.8900 - val_accuracy: 0.5841\n",
            "\n",
            "Epoch 00012: val_accuracy did not improve from 0.59292\n",
            "Epoch 13/50\n",
            "80/80 [==============================] - 24s 304ms/step - loss: 0.8720 - accuracy: 0.5824 - val_loss: 0.9097 - val_accuracy: 0.6018\n",
            "\n",
            "Epoch 00013: val_accuracy improved from 0.59292 to 0.60177, saving model to /content/CNN_aug_best_weights.h5\n",
            "Epoch 14/50\n",
            "80/80 [==============================] - 24s 303ms/step - loss: 0.9071 - accuracy: 0.5699 - val_loss: 0.9165 - val_accuracy: 0.5885\n",
            "\n",
            "Epoch 00014: val_accuracy did not improve from 0.60177\n",
            "Epoch 15/50\n",
            "80/80 [==============================] - 24s 303ms/step - loss: 0.8763 - accuracy: 0.6044 - val_loss: 0.9231 - val_accuracy: 0.5841\n",
            "\n",
            "Epoch 00015: val_accuracy did not improve from 0.60177\n",
            "Epoch 16/50\n",
            "80/80 [==============================] - 24s 303ms/step - loss: 0.9026 - accuracy: 0.5942 - val_loss: 0.8744 - val_accuracy: 0.5752\n",
            "\n",
            "Epoch 00016: val_accuracy did not improve from 0.60177\n",
            "Epoch 17/50\n",
            "80/80 [==============================] - 24s 302ms/step - loss: 0.8588 - accuracy: 0.6287 - val_loss: 0.8221 - val_accuracy: 0.6814\n",
            "\n",
            "Epoch 00017: val_accuracy improved from 0.60177 to 0.68142, saving model to /content/CNN_aug_best_weights.h5\n",
            "Epoch 18/50\n",
            "80/80 [==============================] - 24s 304ms/step - loss: 0.8742 - accuracy: 0.6068 - val_loss: 1.4414 - val_accuracy: 0.4735\n",
            "\n",
            "Epoch 00018: val_accuracy did not improve from 0.68142\n",
            "Epoch 19/50\n",
            "80/80 [==============================] - 24s 303ms/step - loss: 0.9197 - accuracy: 0.5761 - val_loss: 0.9348 - val_accuracy: 0.6239\n",
            "\n",
            "Epoch 00019: val_accuracy did not improve from 0.68142\n",
            "Epoch 20/50\n",
            "80/80 [==============================] - 24s 303ms/step - loss: 0.8524 - accuracy: 0.6264 - val_loss: 0.8020 - val_accuracy: 0.6681\n",
            "\n",
            "Epoch 00020: val_accuracy did not improve from 0.68142\n",
            "Epoch 21/50\n",
            "80/80 [==============================] - 24s 302ms/step - loss: 0.8147 - accuracy: 0.6531 - val_loss: 0.8363 - val_accuracy: 0.6372\n",
            "\n",
            "Epoch 00021: val_accuracy did not improve from 0.68142\n",
            "Epoch 22/50\n",
            "80/80 [==============================] - 24s 306ms/step - loss: 0.8586 - accuracy: 0.6436 - val_loss: 0.9902 - val_accuracy: 0.6018\n",
            "\n",
            "Epoch 00022: val_accuracy did not improve from 0.68142\n",
            "Epoch 23/50\n",
            "80/80 [==============================] - 24s 303ms/step - loss: 0.8400 - accuracy: 0.6421 - val_loss: 0.7821 - val_accuracy: 0.6504\n",
            "\n",
            "Epoch 00023: val_accuracy did not improve from 0.68142\n",
            "Epoch 24/50\n",
            "80/80 [==============================] - 24s 301ms/step - loss: 0.7930 - accuracy: 0.6444 - val_loss: 0.8890 - val_accuracy: 0.6239\n",
            "\n",
            "Epoch 00024: val_accuracy did not improve from 0.68142\n",
            "Epoch 25/50\n",
            "80/80 [==============================] - 24s 303ms/step - loss: 0.7855 - accuracy: 0.6593 - val_loss: 0.7927 - val_accuracy: 0.6726\n",
            "\n",
            "Epoch 00025: val_accuracy did not improve from 0.68142\n",
            "Epoch 26/50\n",
            "80/80 [==============================] - 24s 303ms/step - loss: 0.7633 - accuracy: 0.6648 - val_loss: 0.8342 - val_accuracy: 0.6460\n",
            "\n",
            "Epoch 00026: val_accuracy did not improve from 0.68142\n",
            "Epoch 27/50\n",
            "80/80 [==============================] - 24s 303ms/step - loss: 0.7902 - accuracy: 0.6578 - val_loss: 0.8531 - val_accuracy: 0.5796\n",
            "\n",
            "Epoch 00027: val_accuracy did not improve from 0.68142\n",
            "Epoch 28/50\n",
            "80/80 [==============================] - 24s 302ms/step - loss: 0.7729 - accuracy: 0.6499 - val_loss: 0.8765 - val_accuracy: 0.6504\n",
            "\n",
            "Epoch 00028: val_accuracy did not improve from 0.68142\n",
            "Epoch 29/50\n",
            "80/80 [==============================] - 24s 303ms/step - loss: 0.8000 - accuracy: 0.6562 - val_loss: 0.9035 - val_accuracy: 0.6327\n",
            "\n",
            "Epoch 00029: val_accuracy did not improve from 0.68142\n",
            "Epoch 30/50\n",
            "80/80 [==============================] - 24s 305ms/step - loss: 0.7649 - accuracy: 0.6538 - val_loss: 0.8578 - val_accuracy: 0.6549\n",
            "\n",
            "Epoch 00030: val_accuracy did not improve from 0.68142\n",
            "Epoch 31/50\n",
            "80/80 [==============================] - 24s 306ms/step - loss: 0.7511 - accuracy: 0.6797 - val_loss: 0.7218 - val_accuracy: 0.7035\n",
            "\n",
            "Epoch 00031: val_accuracy improved from 0.68142 to 0.70354, saving model to /content/CNN_aug_best_weights.h5\n",
            "Epoch 32/50\n",
            "80/80 [==============================] - 24s 302ms/step - loss: 0.7649 - accuracy: 0.6625 - val_loss: 0.8624 - val_accuracy: 0.6504\n",
            "\n",
            "Epoch 00032: val_accuracy did not improve from 0.70354\n",
            "Epoch 33/50\n",
            "80/80 [==============================] - 24s 301ms/step - loss: 0.7524 - accuracy: 0.6703 - val_loss: 0.7919 - val_accuracy: 0.6814\n",
            "\n",
            "Epoch 00033: val_accuracy did not improve from 0.70354\n",
            "Epoch 34/50\n",
            "80/80 [==============================] - 24s 302ms/step - loss: 0.7687 - accuracy: 0.6837 - val_loss: 0.8296 - val_accuracy: 0.7080\n",
            "\n",
            "Epoch 00034: val_accuracy improved from 0.70354 to 0.70796, saving model to /content/CNN_aug_best_weights.h5\n",
            "Epoch 35/50\n",
            "80/80 [==============================] - 24s 305ms/step - loss: 0.7838 - accuracy: 0.6900 - val_loss: 0.8054 - val_accuracy: 0.6637\n",
            "\n",
            "Epoch 00035: val_accuracy did not improve from 0.70796\n",
            "Epoch 36/50\n",
            "80/80 [==============================] - 24s 304ms/step - loss: 0.7141 - accuracy: 0.6860 - val_loss: 0.7411 - val_accuracy: 0.7080\n",
            "\n",
            "Epoch 00036: val_accuracy did not improve from 0.70796\n",
            "Epoch 37/50\n",
            "80/80 [==============================] - 25s 306ms/step - loss: 0.7109 - accuracy: 0.7002 - val_loss: 0.7487 - val_accuracy: 0.7168\n",
            "\n",
            "Epoch 00037: val_accuracy improved from 0.70796 to 0.71681, saving model to /content/CNN_aug_best_weights.h5\n",
            "Epoch 38/50\n",
            "80/80 [==============================] - 25s 307ms/step - loss: 0.7170 - accuracy: 0.6837 - val_loss: 1.0121 - val_accuracy: 0.6195\n",
            "\n",
            "Epoch 00038: val_accuracy did not improve from 0.71681\n",
            "Epoch 39/50\n",
            "80/80 [==============================] - 24s 302ms/step - loss: 0.7760 - accuracy: 0.6546 - val_loss: 0.9383 - val_accuracy: 0.6372\n",
            "\n",
            "Epoch 00039: val_accuracy did not improve from 0.71681\n",
            "Epoch 40/50\n",
            "80/80 [==============================] - 24s 302ms/step - loss: 0.6894 - accuracy: 0.6939 - val_loss: 0.7507 - val_accuracy: 0.6726\n",
            "\n",
            "Epoch 00040: val_accuracy did not improve from 0.71681\n",
            "Epoch 41/50\n",
            "80/80 [==============================] - 24s 301ms/step - loss: 0.6919 - accuracy: 0.6931 - val_loss: 0.7279 - val_accuracy: 0.7124\n",
            "\n",
            "Epoch 00041: val_accuracy did not improve from 0.71681\n",
            "Epoch 42/50\n",
            "80/80 [==============================] - 24s 303ms/step - loss: 0.6708 - accuracy: 0.7080 - val_loss: 0.8008 - val_accuracy: 0.6681\n",
            "\n",
            "Epoch 00042: val_accuracy did not improve from 0.71681\n",
            "Epoch 43/50\n",
            "80/80 [==============================] - 24s 303ms/step - loss: 0.6636 - accuracy: 0.7111 - val_loss: 0.7432 - val_accuracy: 0.7522\n",
            "\n",
            "Epoch 00043: val_accuracy improved from 0.71681 to 0.75221, saving model to /content/CNN_aug_best_weights.h5\n",
            "Epoch 44/50\n",
            "80/80 [==============================] - 24s 301ms/step - loss: 0.7079 - accuracy: 0.6837 - val_loss: 0.8487 - val_accuracy: 0.6947\n",
            "\n",
            "Epoch 00044: val_accuracy did not improve from 0.75221\n",
            "Epoch 45/50\n",
            "80/80 [==============================] - 24s 305ms/step - loss: 0.7201 - accuracy: 0.6884 - val_loss: 0.7201 - val_accuracy: 0.7168\n",
            "\n",
            "Epoch 00045: val_accuracy did not improve from 0.75221\n",
            "Epoch 46/50\n",
            "80/80 [==============================] - 24s 302ms/step - loss: 0.6631 - accuracy: 0.7261 - val_loss: 0.7406 - val_accuracy: 0.7301\n",
            "\n",
            "Epoch 00046: val_accuracy did not improve from 0.75221\n",
            "Epoch 47/50\n",
            "80/80 [==============================] - 24s 303ms/step - loss: 0.7024 - accuracy: 0.7214 - val_loss: 0.7456 - val_accuracy: 0.7212\n",
            "\n",
            "Epoch 00047: val_accuracy did not improve from 0.75221\n",
            "Epoch 48/50\n",
            "80/80 [==============================] - 24s 306ms/step - loss: 0.6565 - accuracy: 0.7237 - val_loss: 0.6829 - val_accuracy: 0.7611\n",
            "\n",
            "Epoch 00048: val_accuracy improved from 0.75221 to 0.76106, saving model to /content/CNN_aug_best_weights.h5\n",
            "Epoch 49/50\n",
            "80/80 [==============================] - 24s 305ms/step - loss: 0.6454 - accuracy: 0.7363 - val_loss: 0.7499 - val_accuracy: 0.7566\n",
            "\n",
            "Epoch 00049: val_accuracy did not improve from 0.76106\n",
            "Epoch 50/50\n",
            "80/80 [==============================] - 24s 306ms/step - loss: 0.7523 - accuracy: 0.6790 - val_loss: 0.7675 - val_accuracy: 0.7212\n",
            "\n",
            "Epoch 00050: val_accuracy did not improve from 0.76106\n"
          ],
          "name": "stdout"
        }
      ]
    },
    {
      "cell_type": "code",
      "metadata": {
        "colab": {
          "base_uri": "https://localhost:8080/",
          "height": 458
        },
        "id": "yqR7666y639V",
        "outputId": "54cab155-600f-4977-895f-c7c50a68a8bc"
      },
      "source": [
        "# Prikaz preciznosti kroz epohe\n",
        "acc=history.history['accuracy']\n",
        "val_acc=history.history['val_accuracy']\n",
        "loss=history.history['loss']\n",
        "val_loss=history.history['val_loss']\n",
        "\n",
        "epochs=range(len(acc))\n",
        "\n",
        "fig = plt.figure(figsize=(14,7))\n",
        "plt.plot(epochs, acc, 'r', label=\"Training Accuracy\")\n",
        "plt.plot(epochs, val_acc, 'b', label=\"Validation Accuracy\")\n",
        "plt.xlabel('Epoch')\n",
        "plt.ylabel('Accuracy')\n",
        "plt.title('Training and validation accuracy')\n",
        "plt.legend(loc='lower right')\n",
        "plt.show()"
      ],
      "execution_count": 22,
      "outputs": [
        {
          "output_type": "display_data",
          "data": {
            "image/png": "[encoded data removed]",
            "text/plain": [
              "<Figure size 1008x504 with 1 Axes>"
            ]
          },
          "metadata": {
            "tags": [],
            "needs_background": "light"
          }
        }
      ]
    },
    {
      "cell_type": "code",
      "metadata": {
        "colab": {
          "base_uri": "https://localhost:8080/",
          "height": 475
        },
        "id": "0lHp42aY7HUH",
        "outputId": "93dbd934-1cc9-45f5-e2b0-e6838b07be0a"
      },
      "source": [
        "# Prikaz gubitaka kroz epohe\n",
        "fig2 = plt.figure(figsize=(14,7))\n",
        "plt.plot(epochs, loss, 'r', label=\"Training Loss\")\n",
        "plt.plot(epochs, val_loss, 'b', label=\"Validation Loss\")\n",
        "plt.legend(loc='upper right')\n",
        "plt.xlabel('Epoch')\n",
        "plt.ylabel('Loss')\n",
        "plt.title('Training and validation loss')"
      ],
      "execution_count": 23,
      "outputs": [
        {
          "output_type": "execute_result",
          "data": {
            "text/plain": [
              "Text(0.5, 1.0, 'Training and validation loss')"
            ]
          },
          "metadata": {
            "tags": []
          },
          "execution_count": 23
        },
        {
          "output_type": "display_data",
          "data": {
            "image/png": "[encoded data removed]",
            "text/plain": [
              "<Figure size 1008x504 with 1 Axes>"
            ]
          },
          "metadata": {
            "tags": [],
            "needs_background": "light"
          }
        }
      ]
    },
    {
      "cell_type": "code",
      "metadata": {
        "id": "6e1EimKq7H_2"
      },
      "source": [
        "import pandas as pd\n",
        "import numpy as np\n",
        "from keras.preprocessing.image import load_img, img_to_array\n",
        "\n",
        "# Funkcija za preprocesiranje slike (konvertovanje slike u format niz-a)\n",
        "def preprocess_image(path):\n",
        "    img = load_img(path, target_size = (img_height, img_width))\n",
        "    a = img_to_array(img)\n",
        "    a = np.expand_dims(a, axis = 0)\n",
        "    a /= 255.\n",
        "    return a"
      ],
      "execution_count": 24,
      "outputs": []
    },
    {
      "cell_type": "code",
      "metadata": {
        "id": "U0ScO0Rq7Ja2"
      },
      "source": [
        "# Ucitavanje slika iz test foldera - alien_test\n",
        "test_images_dir = '/content/dataset/alien_test/'\n",
        "test_df = pd.read_csv('/content/dataset/test.csv')\n",
        "\n",
        "test_dfToList = test_df['Image_id'].tolist()\n",
        "test_ids = [str(item) for item in test_dfToList]\n",
        "\n",
        "test_images = [test_images_dir+item for item in test_ids]\n",
        "test_preprocessed_images = np.vstack([preprocess_image(fn) for fn in test_images])\n",
        "np.save('/content/test_preproc_CNN.npy', test_preprocessed_images)"
      ],
      "execution_count": 25,
      "outputs": []
    },
    {
      "cell_type": "code",
      "metadata": {
        "colab": {
          "base_uri": "https://localhost:8080/"
        },
        "id": "PsCO5G9j7LPY",
        "outputId": "88be9fba-17b7-48e0-9537-cbe45ec3fb3d"
      },
      "source": [
        "# Koriscenje modela za predikciju slika iz testnog foldera\n",
        "array = model.predict(test_preprocessed_images, batch_size=1, verbose=1)\n",
        "answer = np.argmax(array, axis=1)\n",
        "print(answer)"
      ],
      "execution_count": 26,
      "outputs": [
        {
          "output_type": "stream",
          "text": [
            "30/30 [==============================] - 0s 2ms/step\n",
            "[1 0 3 3 2 0 2 0 1 0 4 3 2 0 2 2 2 2 2 2 3 3 3 4 4 4 4 4 4 4]\n"
          ],
          "name": "stdout"
        }
      ]
    },
    {
      "cell_type": "code",
      "metadata": {
        "colab": {
          "base_uri": "https://localhost:8080/"
        },
        "id": "ZpS0lKf5-RpW",
        "outputId": "49ac75f7-8349-4c5e-8253-5f6924188a7e"
      },
      "source": [
        "# Prediktovane labele\n",
        "test_df = pd.read_csv('/content/dataset/test.csv')\n",
        "y_true = test_df['labels']\n",
        "y_pred = array\n",
        "print(y_true)"
      ],
      "execution_count": 27,
      "outputs": [
        {
          "output_type": "stream",
          "text": [
            "0     0\n",
            "1     0\n",
            "2     0\n",
            "3     0\n",
            "4     1\n",
            "5     1\n",
            "6     1\n",
            "7     1\n",
            "8     1\n",
            "9     1\n",
            "10    1\n",
            "11    1\n",
            "12    1\n",
            "13    1\n",
            "14    2\n",
            "15    2\n",
            "16    2\n",
            "17    2\n",
            "18    2\n",
            "19    2\n",
            "20    3\n",
            "21    3\n",
            "22    3\n",
            "23    4\n",
            "24    4\n",
            "25    4\n",
            "26    4\n",
            "27    4\n",
            "28    4\n",
            "29    4\n",
            "Name: labels, dtype: int64\n"
          ],
          "name": "stdout"
        }
      ]
    },
    {
      "cell_type": "code",
      "metadata": {
        "colab": {
          "base_uri": "https://localhost:8080/"
        },
        "id": "XCR4JSOt7MTl",
        "outputId": "8c55b8a6-7423-4292-c277-754a1dd88ce3"
      },
      "source": [
        "# Prikaz gubitaka\n",
        "from sklearn.metrics import log_loss\n",
        "loss = log_loss(y_true, y_pred, eps=1e-15, normalize=True, sample_weight=None, labels=None)\n",
        "loss"
      ],
      "execution_count": 28,
      "outputs": [
        {
          "output_type": "execute_result",
          "data": {
            "text/plain": [
              "0.8375469324026881"
            ]
          },
          "metadata": {
            "tags": []
          },
          "execution_count": 28
        }
      ]
    },
    {
      "cell_type": "code",
      "metadata": {
        "colab": {
          "base_uri": "https://localhost:8080/"
        },
        "id": "jXFVSS8g7OBM",
        "outputId": "072d8abf-05bd-4034-f291-3ae11883c7ef"
      },
      "source": [
        "# Prikaz matrice relacije, na dijagonali su tacne predikcije\n",
        "from sklearn.metrics import confusion_matrix\n",
        "conf_mat = confusion_matrix(y_true, answer)\n",
        "conf_mat"
      ],
      "execution_count": 29,
      "outputs": [
        {
          "output_type": "execute_result",
          "data": {
            "text/plain": [
              "array([[1, 1, 0, 2, 0],\n",
              "       [4, 1, 3, 1, 1],\n",
              "       [0, 0, 6, 0, 0],\n",
              "       [0, 0, 0, 3, 0],\n",
              "       [0, 0, 0, 0, 7]])"
            ]
          },
          "metadata": {
            "tags": []
          },
          "execution_count": 29
        }
      ]
    },
    {
      "cell_type": "code",
      "metadata": {
        "id": "gzNdb-be7QL7"
      },
      "source": [
        "train_dir = '/content/weather-data/train/'\n",
        "classes = os.listdir(train_dir)"
      ],
      "execution_count": 30,
      "outputs": []
    },
    {
      "cell_type": "code",
      "metadata": {
        "id": "SfWNRbIW7QO_"
      },
      "source": [
        "# Plotovanje matrice sa rezultatime za svaku klasu\n",
        "import itertools\n",
        "def plot_confusion_matrix(cm, classes,\n",
        "                          normalize=False,\n",
        "                          title='Confusion matrix',\n",
        "                          cmap=plt.cm.Reds):\n",
        "  \n",
        "    plt.imshow(cm, interpolation='nearest', cmap=cmap)\n",
        "    plt.title(title)\n",
        "    plt.colorbar()\n",
        "    tick_marks = np.arange(len(classes))\n",
        "    plt.xticks(tick_marks, classes, rotation=45)\n",
        "    plt.yticks(tick_marks, classes)\n",
        "\n",
        "    if normalize:\n",
        "        cm = cm.astype('float') / cm.sum(axis=1)[:, np.newaxis]\n",
        "        cm = cm.round(2)\n",
        "    else:\n",
        "        cm=cm\n",
        "\n",
        "    thresh = cm.max() / 2.\n",
        "    for i, j in itertools.product(range(cm.shape[0]), range(cm.shape[1])):\n",
        "        plt.text(j, i, cm[i, j],\n",
        "                 horizontalalignment=\"center\",\n",
        "                 color=\"white\" if cm[i, j] > thresh else \"black\")\n",
        "\n",
        "    plt.tight_layout()\n",
        "    plt.ylabel('True label')\n",
        "    plt.xlabel('Predicted label')"
      ],
      "execution_count": 31,
      "outputs": []
    },
    {
      "cell_type": "code",
      "metadata": {
        "colab": {
          "base_uri": "https://localhost:8080/",
          "height": 452
        },
        "id": "tJxmEu4d7QSK",
        "outputId": "533e05f6-afc2-4eab-d042-bb2c7352c31d"
      },
      "source": [
        "np.set_printoptions(precision=2)\n",
        "\n",
        "fig1 = plt.figure(figsize=(7,6))\n",
        "plot_confusion_matrix(conf_mat, classes=classes, title='Confusion matrix, without normalization')\n",
        "plt.show()"
      ],
      "execution_count": 32,
      "outputs": [
        {
          "output_type": "display_data",
          "data": {
            "image/png": "[encoded data removed]",
            "text/plain": [
              "<Figure size 504x432 with 2 Axes>"
            ]
          },
          "metadata": {
            "tags": [],
            "needs_background": "light"
          }
        }
      ]
    }
  ]
}